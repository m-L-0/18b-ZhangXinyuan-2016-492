{
 "cells": [
  {
   "cell_type": "code",
   "execution_count": 1,
   "metadata": {},
   "outputs": [],
   "source": [
    "#给定了9个类别的数据集，每个样本由200个波段组成（200个光谱特征）\n",
    "#每个数据文件对应一个类别\n",
    "#测试集一共有2310个样本，测试样本也是由200个波段的光谱影响值构成特征向量。\n",
    "#要求得到相邻波段之间存在的相关性\n",
    "#最后决策结果的类别标号来自【2,3,5,6,8,10,11,12,14】\n",
    "from scipy.io import loadmat\n",
    "import matplotlib.pyplot as plt  \n",
    "import numpy as np\n",
    "import spectral"
   ]
  },
  {
   "cell_type": "code",
   "execution_count": 19,
   "metadata": {},
   "outputs": [],
   "source": [
    "#获取训练集\n",
    "x_2 = loadmat('./mat/data2_train.mat')['data2_train']# (1071, 200)\n",
    "x_3 = loadmat('./mat/data3_train.mat')['data3_train']# (622, 200)\n",
    "x_5 = loadmat('./mat/data5_train.mat')['data5_train']# (362, 200)\n",
    "x_6 = loadmat('./mat/data6_train.mat')['data6_train']# (547, 200)\n",
    "x_8 = loadmat('./mat/data8_train.mat')['data8_train']# (358, 200)\n",
    "x_10 = loadmat('./mat/data10_train.mat')['data10_train']# (729, 200)\n",
    "x_11 = loadmat('./mat/data11_train.mat')['data11_train']# (1841, 200)\n",
    "x_12 = loadmat('./mat/data12_train.mat')['data12_train']# (445, 200)\n",
    "x_14 = loadmat('./mat/data14_train.mat')['data14_train']# (949, 200)\n",
    "#获取测试集\n",
    "y = loadmat('./mat/data_test_final.mat')['data_test_final']"
   ]
  },
  {
   "cell_type": "code",
   "execution_count": 20,
   "metadata": {},
   "outputs": [
    {
     "data": {
      "text/plain": [
       "(2310, 200)"
      ]
     },
     "execution_count": 20,
     "metadata": {},
     "output_type": "execute_result"
    }
   ],
   "source": [
    "y.shape"
   ]
  },
  {
   "cell_type": "code",
   "execution_count": 21,
   "metadata": {},
   "outputs": [
    {
     "data": {
      "text/plain": [
       "array([ 985,  989,  991, ..., 8552, 8585, 8783], dtype=uint16)"
      ]
     },
     "execution_count": 21,
     "metadata": {},
     "output_type": "execute_result"
    }
   ],
   "source": [
    "np.unique(y)"
   ]
  },
  {
   "cell_type": "code",
   "execution_count": 6,
   "metadata": {},
   "outputs": [
    {
     "name": "stdout",
     "output_type": "stream",
     "text": [
      "[[3158 4122 4145 ... 1022 1019 1010]\n",
      " [3023 3737 4027 ... 1019 1008 1004]\n",
      " [2743 4388 4591 ... 1056 1030 1025]\n",
      " ...\n",
      " [2561 3881 4051 ... 1018  998 1015]\n",
      " [2745 4391 4335 ... 1046 1029 1019]\n",
      " [3009 3986 3967 ... 1011 1009 1000]]\n"
     ]
    }
   ],
   "source": [
    "print(y)"
   ]
  },
  {
   "cell_type": "code",
   "execution_count": 9,
   "metadata": {},
   "outputs": [
    {
     "data": {
      "image/png": "[encoded data removed]",
      "text/plain": [
       "<matplotlib.figure.Figure at 0x1a00c57a1d0>"
      ]
     },
     "metadata": {},
     "output_type": "display_data"
    }
   ],
   "source": [
    "ground_truth = spectral.imshow(classes = y.astype(int),figsize = (9,9))"
   ]
  },
  {
   "cell_type": "code",
   "execution_count": 10,
   "metadata": {},
   "outputs": [
    {
     "data": {
      "image/png": "[encoded data removed]",
      "text/plain": [
       "<matplotlib.figure.Figure at 0x1a00c583470>"
      ]
     },
     "metadata": {},
     "output_type": "display_data"
    }
   ],
   "source": [
    "ksc_color =np.array([[255,255,255],\n",
    "     [184,40,99],\n",
    "     [74,77,145],\n",
    "     [35,102,193],\n",
    "     [238,110,105],\n",
    "     [117,249,76],\n",
    "     [114,251,253],\n",
    "     [126,196,59],\n",
    "     [234,65,247],\n",
    "     [141,79,77],\n",
    "     [183,40,99],\n",
    "     [0,39,245],\n",
    "     [90,196,111],\n",
    "        ])\n",
    "ground_truth = spectral.imshow(classes = y.astype(int),figsize =(9,9),colors=ksc_color)"
   ]
  },
  {
   "cell_type": "code",
   "execution_count": null,
   "metadata": {},
   "outputs": [],
   "source": []
  }
 ],
 "metadata": {
  "kernelspec": {
   "display_name": "Python 3",
   "language": "python",
   "name": "python3"
  },
  "language_info": {
   "codemirror_mode": {
    "name": "ipython",
    "version": 3
   },
   "file_extension": ".py",
   "mimetype": "text/x-python",
   "name": "python",
   "nbconvert_exporter": "python",
   "pygments_lexer": "ipython3",
   "version": "3.6.4"
  }
 },
 "nbformat": 4,
 "nbformat_minor": 2
}
