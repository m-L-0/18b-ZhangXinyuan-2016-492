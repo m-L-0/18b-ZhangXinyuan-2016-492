{
 "cells": [
  {
   "cell_type": "code",
   "execution_count": 1,
   "metadata": {},
   "outputs": [
    {
     "name": "stderr",
     "output_type": "stream",
     "text": [
      "D:\\Downloads\\Anaconda\\lib\\site-packages\\h5py\\__init__.py:36: FutureWarning: Conversion of the second argument of issubdtype from `float` to `np.floating` is deprecated. In future, it will be treated as `np.float64 == np.dtype(float).type`.\n",
      "  from ._conv import register_converters as _register_converters\n"
     ]
    }
   ],
   "source": [
    "import numpy as np\n",
    "import pandas as pd\n",
    "import tensorflow as tf\n",
    "from sklearn import datasets\n",
    "from sklearn.datasets import load_iris\n",
    "from sklearn.model_selection import train_test_split"
   ]
  },
  {
   "cell_type": "code",
   "execution_count": 2,
   "metadata": {},
   "outputs": [],
   "source": [
    "#导入鸢尾花数据集\n",
    "iris = load_iris()"
   ]
  },
  {
   "cell_type": "code",
   "execution_count": 3,
   "metadata": {},
   "outputs": [],
   "source": [
    "data = iris.data#150行4列\n",
    "target = iris.target#50个0,50个1，50个2\n",
    "target_names = iris.target_names#'setosa' 'versicolor' 'virginica'"
   ]
  },
  {
   "cell_type": "code",
   "execution_count": 4,
   "metadata": {},
   "outputs": [],
   "source": [
    "#x_train是训练集数据，x_lable是训练集的标签，同理y为验证集\n",
    "#x_train长为120  y_train长为30\n",
    "#鸢尾花数据集安装8 : 2的比例划分成训练集与验证集\n",
    "x_train,y_train,x_lable,y_lable = train_test_split(data,target,test_size=0.2,random_state=42)"
   ]
  },
  {
   "cell_type": "code",
   "execution_count": 57,
   "metadata": {},
   "outputs": [],
   "source": [
    "#定义鸢尾花的分类\n",
    "def class_iris(dis,x_lable,k):\n",
    "    a = 0\n",
    "    b = 0\n",
    "    c = 0\n",
    "    for i in range(k):\n",
    "        index = np.argmin(dis)#最小值所在的位置\n",
    "        if x_lable[index]==0:#如果是类别标签为0则分为第一类\n",
    "            a = a+1#10\n",
    "        elif x_lable[index]==1:\n",
    "            b = b+1#8\n",
    "        else:\n",
    "            c = c+1#10\n",
    "        dis[index] = dis.max()\n",
    "    d = np.array([a,b,c])\n",
    "    ans = d.argmax()\n",
    "    return ans"
   ]
  },
  {
   "cell_type": "code",
   "execution_count": 63,
   "metadata": {},
   "outputs": [
    {
     "name": "stdout",
     "output_type": "stream",
     "text": [
      "1.0\n"
     ]
    }
   ],
   "source": [
    "num = len(y_train)#验证集\n",
    "t = 0\n",
    "for i in range(num):\n",
    "    #计算两点之间的距离\n",
    "    dis = np.sqrt(np.sum(np.square(x_train-y_train[i,:]),1))#一共120个\n",
    "    ans = class_iris(dis,x_lable,10)\n",
    "    if ans == y_lable[i]:\n",
    "        t += 1\n",
    "accuracy = t/num\n",
    "print(accuracy)"
   ]
  }
 ],
 "metadata": {
  "kernelspec": {
   "display_name": "Python 3",
   "language": "python",
   "name": "python3"
  },
  "language_info": {
   "codemirror_mode": {
    "name": "ipython",
    "version": 3
   },
   "file_extension": ".py",
   "mimetype": "text/x-python",
   "name": "python",
   "nbconvert_exporter": "python",
   "pygments_lexer": "ipython3",
   "version": "3.6.4"
  }
 },
 "nbformat": 4,
 "nbformat_minor": 2
}
